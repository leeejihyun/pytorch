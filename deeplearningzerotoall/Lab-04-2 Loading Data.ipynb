{
 "cells": [
  {
   "cell_type": "markdown",
   "id": "quality-accused",
   "metadata": {},
   "source": [
    "# Slicing 1D Array"
   ]
  },
  {
   "cell_type": "code",
   "execution_count": 1,
   "id": "professional-stick",
   "metadata": {},
   "outputs": [
    {
     "name": "stdout",
     "output_type": "stream",
     "text": [
      "[0, 1, 2, 3, 4]\n"
     ]
    }
   ],
   "source": [
    "nums = [0, 1, 2, 3, 4]\n",
    "print(nums)"
   ]
  },
  {
   "cell_type": "code",
   "execution_count": 2,
   "id": "average-ethnic",
   "metadata": {},
   "outputs": [
    {
     "name": "stdout",
     "output_type": "stream",
     "text": [
      "[2, 3]\n"
     ]
    }
   ],
   "source": [
    "print(nums[2:4])"
   ]
  },
  {
   "cell_type": "code",
   "execution_count": 3,
   "id": "harmful-median",
   "metadata": {},
   "outputs": [
    {
     "name": "stdout",
     "output_type": "stream",
     "text": [
      "[2, 3, 4]\n"
     ]
    }
   ],
   "source": [
    "print(nums[2:])"
   ]
  },
  {
   "cell_type": "code",
   "execution_count": 4,
   "id": "referenced-session",
   "metadata": {},
   "outputs": [
    {
     "name": "stdout",
     "output_type": "stream",
     "text": [
      "[0, 1]\n"
     ]
    }
   ],
   "source": [
    "print(nums[:2])"
   ]
  },
  {
   "cell_type": "code",
   "execution_count": 5,
   "id": "swiss-omega",
   "metadata": {},
   "outputs": [
    {
     "name": "stdout",
     "output_type": "stream",
     "text": [
      "[0, 1, 2, 3, 4]\n"
     ]
    }
   ],
   "source": [
    "print(nums[:])"
   ]
  },
  {
   "cell_type": "code",
   "execution_count": 6,
   "id": "under-maria",
   "metadata": {},
   "outputs": [
    {
     "name": "stdout",
     "output_type": "stream",
     "text": [
      "[0, 1, 2, 3]\n"
     ]
    }
   ],
   "source": [
    "print(nums[:-1])"
   ]
  },
  {
   "cell_type": "code",
   "execution_count": 7,
   "id": "cordless-feelings",
   "metadata": {},
   "outputs": [
    {
     "name": "stdout",
     "output_type": "stream",
     "text": [
      "[0, 1, 8, 9, 4]\n"
     ]
    }
   ],
   "source": [
    "nums[2:4] = [8, 9]\n",
    "print(nums)"
   ]
  },
  {
   "cell_type": "markdown",
   "id": "perceived-prairie",
   "metadata": {},
   "source": [
    "# Slicing 2D Array"
   ]
  },
  {
   "cell_type": "code",
   "execution_count": 8,
   "id": "premier-separation",
   "metadata": {},
   "outputs": [],
   "source": [
    "import numpy as np"
   ]
  },
  {
   "cell_type": "code",
   "execution_count": 9,
   "id": "smaller-professor",
   "metadata": {},
   "outputs": [
    {
     "name": "stdout",
     "output_type": "stream",
     "text": [
      "[[ 1  2  3  4]\n",
      " [ 5  6  7  8]\n",
      " [ 9 10 11 12]]\n"
     ]
    }
   ],
   "source": [
    "b = np.array([[1, 2, 3, 4], [5, 6, 7, 8], [9, 10, 11, 12]])\n",
    "print(b)"
   ]
  },
  {
   "cell_type": "code",
   "execution_count": 10,
   "id": "efficient-boating",
   "metadata": {},
   "outputs": [
    {
     "data": {
      "text/plain": [
       "array([ 2,  6, 10])"
      ]
     },
     "execution_count": 10,
     "metadata": {},
     "output_type": "execute_result"
    }
   ],
   "source": [
    "b[:, 1]"
   ]
  },
  {
   "cell_type": "code",
   "execution_count": 11,
   "id": "prescription-hawaiian",
   "metadata": {},
   "outputs": [
    {
     "data": {
      "text/plain": [
       "array([ 9, 10, 11, 12])"
      ]
     },
     "execution_count": 11,
     "metadata": {},
     "output_type": "execute_result"
    }
   ],
   "source": [
    "b[-1]"
   ]
  },
  {
   "cell_type": "code",
   "execution_count": 12,
   "id": "cooperative-sullivan",
   "metadata": {},
   "outputs": [
    {
     "data": {
      "text/plain": [
       "array([ 9, 10, 11, 12])"
      ]
     },
     "execution_count": 12,
     "metadata": {},
     "output_type": "execute_result"
    }
   ],
   "source": [
    "b[-1, :]"
   ]
  },
  {
   "cell_type": "code",
   "execution_count": 13,
   "id": "imperial-diamond",
   "metadata": {},
   "outputs": [
    {
     "data": {
      "text/plain": [
       "array([ 9, 10, 11, 12])"
      ]
     },
     "execution_count": 13,
     "metadata": {},
     "output_type": "execute_result"
    }
   ],
   "source": [
    "b[-1, ...]"
   ]
  },
  {
   "cell_type": "code",
   "execution_count": 14,
   "id": "divine-freeware",
   "metadata": {},
   "outputs": [
    {
     "data": {
      "text/plain": [
       "array([[1, 2, 3, 4],\n",
       "       [5, 6, 7, 8]])"
      ]
     },
     "execution_count": 14,
     "metadata": {},
     "output_type": "execute_result"
    }
   ],
   "source": [
    "b[0:2, :]"
   ]
  },
  {
   "cell_type": "markdown",
   "id": "efficient-terror",
   "metadata": {},
   "source": [
    "# Loading Data from .csv file"
   ]
  },
  {
   "cell_type": "code",
   "execution_count": 15,
   "id": "thrown-source",
   "metadata": {},
   "outputs": [],
   "source": [
    "import numpy as np"
   ]
  },
  {
   "cell_type": "code",
   "execution_count": 16,
   "id": "ideal-pipeline",
   "metadata": {},
   "outputs": [
    {
     "data": {
      "text/plain": [
       "array([[ 73.,  80.,  75., 152.],\n",
       "       [ 93.,  88.,  93., 185.],\n",
       "       [ 89.,  91.,  90., 180.],\n",
       "       [ 96.,  98., 100., 196.],\n",
       "       [ 73.,  66.,  70., 142.]], dtype=float32)"
      ]
     },
     "execution_count": 16,
     "metadata": {},
     "output_type": "execute_result"
    }
   ],
   "source": [
    "xy = np.loadtxt('data-01-test-score.csv', delimiter=',', dtype=np.float32)\n",
    "xy[:5]"
   ]
  },
  {
   "cell_type": "code",
   "execution_count": 17,
   "id": "limiting-tokyo",
   "metadata": {},
   "outputs": [],
   "source": [
    "x_data = xy[:, 0:-1]\n",
    "y_data = xy[:, [-1]]"
   ]
  },
  {
   "cell_type": "code",
   "execution_count": 18,
   "id": "circular-saturday",
   "metadata": {},
   "outputs": [
    {
     "name": "stdout",
     "output_type": "stream",
     "text": [
      "(25, 3)\n",
      "25\n",
      "[[ 73.  80.  75.]\n",
      " [ 93.  88.  93.]\n",
      " [ 89.  91.  90.]\n",
      " [ 96.  98. 100.]\n",
      " [ 73.  66.  70.]]\n"
     ]
    }
   ],
   "source": [
    "print(x_data.shape) # x_data shape\n",
    "print(len(x_data)) # x_data 길이\n",
    "print(x_data[:5]) # 첫 다섯 개"
   ]
  },
  {
   "cell_type": "code",
   "execution_count": 19,
   "id": "cordless-function",
   "metadata": {},
   "outputs": [
    {
     "name": "stdout",
     "output_type": "stream",
     "text": [
      "(25, 1)\n",
      "25\n",
      "[[152.]\n",
      " [185.]\n",
      " [180.]\n",
      " [196.]\n",
      " [142.]]\n"
     ]
    }
   ],
   "source": [
    "print(y_data.shape) # y_data shape\n",
    "print(len(y_data)) # y_data 길이\n",
    "print(y_data[:5]) # 첫 다섯 개"
   ]
  },
  {
   "cell_type": "markdown",
   "id": "affected-suffering",
   "metadata": {},
   "source": [
    "# Imports"
   ]
  },
  {
   "cell_type": "code",
   "execution_count": 20,
   "id": "standard-fireplace",
   "metadata": {},
   "outputs": [],
   "source": [
    "import torch\n",
    "import torch.nn as nn\n",
    "import torch.nn.functional as F\n",
    "import torch.optim as optim"
   ]
  },
  {
   "cell_type": "code",
   "execution_count": 21,
   "id": "suspected-output",
   "metadata": {},
   "outputs": [
    {
     "data": {
      "text/plain": [
       "<torch._C.Generator at 0x1fbecdc1530>"
      ]
     },
     "execution_count": 21,
     "metadata": {},
     "output_type": "execute_result"
    }
   ],
   "source": [
    "# For reproducibility\n",
    "torch.manual_seed(1)"
   ]
  },
  {
   "cell_type": "markdown",
   "id": "opened-nevada",
   "metadata": {},
   "source": [
    "# Low-level Implementation"
   ]
  },
  {
   "cell_type": "code",
   "execution_count": 22,
   "id": "healthy-logging",
   "metadata": {},
   "outputs": [
    {
     "name": "stdout",
     "output_type": "stream",
     "text": [
      "Epoch    0/20 Cost: 26811.960938\n",
      "Epoch    1/20 Cost: 9920.530273\n",
      "Epoch    2/20 Cost: 3675.298828\n",
      "Epoch    3/20 Cost: 1366.260498\n",
      "Epoch    4/20 Cost: 512.542480\n",
      "Epoch    5/20 Cost: 196.896667\n",
      "Epoch    6/20 Cost: 80.190987\n",
      "Epoch    7/20 Cost: 37.038689\n",
      "Epoch    8/20 Cost: 21.081348\n",
      "Epoch    9/20 Cost: 15.178763\n",
      "Epoch   10/20 Cost: 12.993682\n",
      "Epoch   11/20 Cost: 12.183030\n",
      "Epoch   12/20 Cost: 11.880535\n",
      "Epoch   13/20 Cost: 11.765960\n",
      "Epoch   14/20 Cost: 11.720860\n",
      "Epoch   15/20 Cost: 11.701432\n",
      "Epoch   16/20 Cost: 11.691512\n",
      "Epoch   17/20 Cost: 11.685116\n",
      "Epoch   18/20 Cost: 11.680002\n",
      "Epoch   19/20 Cost: 11.675382\n",
      "Epoch   20/20 Cost: 11.670952\n"
     ]
    }
   ],
   "source": [
    "# 데이터\n",
    "x_train = torch.FloatTensor(x_data)\n",
    "y_train = torch.FloatTensor(y_data)\n",
    "\n",
    "# 모델 초기화\n",
    "W = torch.zeros((3,1), requires_grad=True)\n",
    "b = torch.zeros(1, requires_grad=True)\n",
    "\n",
    "# optimizer 설정\n",
    "optimizer = optim.SGD([W, b], lr=1e-5)\n",
    "\n",
    "nb_epochs = 20\n",
    "for epoch in range(nb_epochs + 1):\n",
    "    \n",
    "    # H(x) 계산\n",
    "    hypothesis = x_train.matmul(W) + b # or .mm or @\n",
    "    \n",
    "    # cost 계산\n",
    "    cost = torch.mean((hypothesis - y_train) ** 2)\n",
    "    \n",
    "    # cost로 H(x) 개선\n",
    "    optimizer.zero_grad()\n",
    "    cost.backward()\n",
    "    optimizer.step()\n",
    "    \n",
    "    # 20번마다 로그 출력\n",
    "    print('Epoch {:4d}/{} Cost: {:6f}'.format(epoch, nb_epochs, cost.item()))"
   ]
  },
  {
   "cell_type": "markdown",
   "id": "premium-database",
   "metadata": {},
   "source": [
    "# High-level Implementation with nn.Module"
   ]
  },
  {
   "cell_type": "code",
   "execution_count": 23,
   "id": "occupational-opening",
   "metadata": {},
   "outputs": [],
   "source": [
    "class MultivariateLinearRegressionModel(nn.Module):\n",
    "    def __init__(self):\n",
    "        super().__init__()\n",
    "        self.linear = nn.Linear(3, 1)\n",
    "    \n",
    "    def forward(self, x):\n",
    "        return self.linear(x)"
   ]
  },
  {
   "cell_type": "code",
   "execution_count": 24,
   "id": "color-benefit",
   "metadata": {},
   "outputs": [
    {
     "name": "stdout",
     "output_type": "stream",
     "text": [
      "Epoch    0/20 Cost: 28693.490234\n",
      "Epoch    1/20 Cost: 10618.750000\n",
      "Epoch    2/20 Cost: 3936.015381\n",
      "Epoch    3/20 Cost: 1465.219482\n",
      "Epoch    4/20 Cost: 551.693848\n",
      "Epoch    5/20 Cost: 213.934692\n",
      "Epoch    6/20 Cost: 89.052246\n",
      "Epoch    7/20 Cost: 42.875988\n",
      "Epoch    8/20 Cost: 25.799639\n",
      "Epoch    9/20 Cost: 19.482420\n",
      "Epoch   10/20 Cost: 17.143108\n",
      "Epoch   11/20 Cost: 16.274498\n",
      "Epoch   12/20 Cost: 15.949728\n",
      "Epoch   13/20 Cost: 15.825985\n",
      "Epoch   14/20 Cost: 15.776577\n",
      "Epoch   15/20 Cost: 15.754650\n",
      "Epoch   16/20 Cost: 15.742910\n",
      "Epoch   17/20 Cost: 15.734902\n",
      "Epoch   18/20 Cost: 15.728330\n",
      "Epoch   19/20 Cost: 15.722221\n",
      "Epoch   20/20 Cost: 15.716338\n"
     ]
    }
   ],
   "source": [
    "# 데이터\n",
    "x_train = torch.FloatTensor(x_data)\n",
    "y_train = torch.FloatTensor(y_data)\n",
    "\n",
    "# 모델 초기화\n",
    "model = MultivariateLinearRegressionModel()\n",
    "\n",
    "# optimizer 설정\n",
    "optimizer = optim.SGD(model.parameters(), lr=1e-5)\n",
    "\n",
    "nb_epochs = 20\n",
    "for epoch in range(nb_epochs + 1):\n",
    "    \n",
    "    # H(x) 계산\n",
    "    prediction = model(x_train)\n",
    "    \n",
    "    # cost 계산\n",
    "    cost = F.mse_loss(prediction, y_train)\n",
    "    \n",
    "    # cost로 H(x) 개선\n",
    "    optimizer.zero_grad()\n",
    "    cost.backward()\n",
    "    optimizer.step()\n",
    "    \n",
    "    # 20번마다 로그 출력\n",
    "    print('Epoch {:4d}/{} Cost: {:6f}'.format(epoch, nb_epochs, cost.item()))"
   ]
  },
  {
   "cell_type": "markdown",
   "id": "criminal-cosmetic",
   "metadata": {},
   "source": [
    "# Dataset and DataLoader"
   ]
  },
  {
   "cell_type": "code",
   "execution_count": 25,
   "id": "first-cheat",
   "metadata": {},
   "outputs": [],
   "source": [
    "from torch.utils.data import Dataset\n",
    "\n",
    "class CustomDataset(Dataset):\n",
    "    def __init__(self):\n",
    "        self.x_data = [[ 73,  80,  75,], \n",
    "                       [ 93,  88,  93,],\n",
    "                       [ 89,  91,  90,],\n",
    "                       [ 96,  98, 100,],\n",
    "                       [ 73,  66,  70,]]\n",
    "        self.y_data = [[152], [185], [180], [196], [142]]\n",
    "    \n",
    "    def __len__(self):\n",
    "        return len(self.x_data)\n",
    "    \n",
    "    def __getitem__(self, idx):\n",
    "        x = torch.FloatTensor(self.x_data[idx])\n",
    "        y = torch.FloatTensor(self.y_data[idx])\n",
    "        \n",
    "        return x, y\n",
    "\n",
    "dataset = CustomDataset()"
   ]
  },
  {
   "cell_type": "code",
   "execution_count": 26,
   "id": "executive-lounge",
   "metadata": {},
   "outputs": [],
   "source": [
    "from torch.utils.data import DataLoader\n",
    "\n",
    "dataloader = DataLoader(dataset,\n",
    "                       batch_size=2,\n",
    "                       shuffle=True,)"
   ]
  },
  {
   "cell_type": "code",
   "execution_count": 27,
   "id": "young-broad",
   "metadata": {},
   "outputs": [
    {
     "name": "stdout",
     "output_type": "stream",
     "text": [
      "Epoch    0/20 Batch 1/3 Cost: 1.878090\n",
      "Epoch    0/20 Batch 2/3 Cost: 1.036036\n",
      "Epoch    0/20 Batch 3/3 Cost: 1.014979\n",
      "Epoch    1/20 Batch 1/3 Cost: 0.493840\n",
      "Epoch    1/20 Batch 2/3 Cost: 0.116618\n",
      "Epoch    1/20 Batch 3/3 Cost: 0.021588\n",
      "Epoch    2/20 Batch 1/3 Cost: 0.072078\n",
      "Epoch    2/20 Batch 2/3 Cost: 0.523293\n",
      "Epoch    2/20 Batch 3/3 Cost: 0.009312\n",
      "Epoch    3/20 Batch 1/3 Cost: 0.120994\n",
      "Epoch    3/20 Batch 2/3 Cost: 0.047659\n",
      "Epoch    3/20 Batch 3/3 Cost: 0.975012\n",
      "Epoch    4/20 Batch 1/3 Cost: 0.504379\n",
      "Epoch    4/20 Batch 2/3 Cost: 0.037322\n",
      "Epoch    4/20 Batch 3/3 Cost: 0.250321\n",
      "Epoch    5/20 Batch 1/3 Cost: 0.503960\n",
      "Epoch    5/20 Batch 2/3 Cost: 0.214672\n",
      "Epoch    5/20 Batch 3/3 Cost: 0.082572\n",
      "Epoch    6/20 Batch 1/3 Cost: 0.054814\n",
      "Epoch    6/20 Batch 2/3 Cost: 0.567927\n",
      "Epoch    6/20 Batch 3/3 Cost: 0.002249\n",
      "Epoch    7/20 Batch 1/3 Cost: 0.139670\n",
      "Epoch    7/20 Batch 2/3 Cost: 0.583942\n",
      "Epoch    7/20 Batch 3/3 Cost: 0.009197\n",
      "Epoch    8/20 Batch 1/3 Cost: 0.426112\n",
      "Epoch    8/20 Batch 2/3 Cost: 0.187937\n",
      "Epoch    8/20 Batch 3/3 Cost: 0.002075\n",
      "Epoch    9/20 Batch 1/3 Cost: 0.435914\n",
      "Epoch    9/20 Batch 2/3 Cost: 0.245930\n",
      "Epoch    9/20 Batch 3/3 Cost: 0.098287\n",
      "Epoch   10/20 Batch 1/3 Cost: 0.090065\n",
      "Epoch   10/20 Batch 2/3 Cost: 0.011767\n",
      "Epoch   10/20 Batch 3/3 Cost: 1.116586\n",
      "Epoch   11/20 Batch 1/3 Cost: 0.493708\n",
      "Epoch   11/20 Batch 2/3 Cost: 0.027523\n",
      "Epoch   11/20 Batch 3/3 Cost: 0.229840\n",
      "Epoch   12/20 Batch 1/3 Cost: 0.511380\n",
      "Epoch   12/20 Batch 2/3 Cost: 0.313973\n",
      "Epoch   12/20 Batch 3/3 Cost: 0.001923\n",
      "Epoch   13/20 Batch 1/3 Cost: 0.488471\n",
      "Epoch   13/20 Batch 2/3 Cost: 0.253157\n",
      "Epoch   13/20 Batch 3/3 Cost: 0.079248\n",
      "Epoch   14/20 Batch 1/3 Cost: 0.105945\n",
      "Epoch   14/20 Batch 2/3 Cost: 0.541784\n",
      "Epoch   14/20 Batch 3/3 Cost: 0.219069\n",
      "Epoch   15/20 Batch 1/3 Cost: 0.553136\n",
      "Epoch   15/20 Batch 2/3 Cost: 0.059609\n",
      "Epoch   15/20 Batch 3/3 Cost: 0.000213\n",
      "Epoch   16/20 Batch 1/3 Cost: 0.016929\n",
      "Epoch   16/20 Batch 2/3 Cost: 0.515338\n",
      "Epoch   16/20 Batch 3/3 Cost: 0.147962\n",
      "Epoch   17/20 Batch 1/3 Cost: 0.516145\n",
      "Epoch   17/20 Batch 2/3 Cost: 0.231114\n",
      "Epoch   17/20 Batch 3/3 Cost: 0.085518\n",
      "Epoch   18/20 Batch 1/3 Cost: 0.516964\n",
      "Epoch   18/20 Batch 2/3 Cost: 0.074822\n",
      "Epoch   18/20 Batch 3/3 Cost: 0.001109\n",
      "Epoch   19/20 Batch 1/3 Cost: 0.443162\n",
      "Epoch   19/20 Batch 2/3 Cost: 0.241554\n",
      "Epoch   19/20 Batch 3/3 Cost: 0.096155\n",
      "Epoch   20/20 Batch 1/3 Cost: 0.584490\n",
      "Epoch   20/20 Batch 2/3 Cost: 0.108897\n",
      "Epoch   20/20 Batch 3/3 Cost: 0.197245\n"
     ]
    }
   ],
   "source": [
    "nb_epochs = 20\n",
    "for epoch in range(nb_epochs + 1):\n",
    "    for batch_idx, samples in enumerate(dataloader):\n",
    "        x_train, y_train = samples\n",
    "        \n",
    "        # H(x) 계산\n",
    "        prediction = model(x_train)\n",
    "        \n",
    "        # cost 계산\n",
    "        cost = F.mse_loss(prediction, y_train)\n",
    "        \n",
    "        # cost로 H(x) 개선\n",
    "        optimizer.zero_grad()\n",
    "        cost.backward()\n",
    "        optimizer.step()\n",
    "        \n",
    "        print('Epoch {:4d}/{} Batch {}/{} Cost: {:.6f}'.format(\n",
    "        epoch, nb_epochs, batch_idx+1, len(dataloader), cost.item()))"
   ]
  }
 ],
 "metadata": {
  "kernelspec": {
   "display_name": "Python [conda env:pytorch] *",
   "language": "python",
   "name": "conda-env-pytorch-py"
  },
  "language_info": {
   "codemirror_mode": {
    "name": "ipython",
    "version": 3
   },
   "file_extension": ".py",
   "mimetype": "text/x-python",
   "name": "python",
   "nbconvert_exporter": "python",
   "pygments_lexer": "ipython3",
   "version": "3.8.5"
  }
 },
 "nbformat": 4,
 "nbformat_minor": 5
}
