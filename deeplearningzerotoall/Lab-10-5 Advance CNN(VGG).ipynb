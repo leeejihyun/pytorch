{
 "cells": [
  {
   "cell_type": "markdown",
   "metadata": {
    "id": "3tVy1sFpQ3Ug"
   },
   "source": [
    "# lab-10_5_1_Advance-cnn(VGG).ipynb\n",
    "https://github.com/pytorch/vision/blob/master/torchvision/models/vgg.py"
   ]
  },
  {
   "cell_type": "code",
   "execution_count": 1,
   "metadata": {
    "executionInfo": {
     "elapsed": 1174,
     "status": "ok",
     "timestamp": 1615312641784,
     "user": {
      "displayName": "이뢀뢀",
      "photoUrl": "https://lh3.googleusercontent.com/a-/AOh14GiIc486aYedO7pLYy9pAR30mYu1GysCit3jpfY3Nw=s64",
      "userId": "05076428626224035015"
     },
     "user_tz": -540
    },
    "id": "QL3kMIGJ7FL-"
   },
   "outputs": [],
   "source": [
    "import torch\n",
    "import torch.nn as nn\n",
    "from typing import Union, List, Dict, Any, cast"
   ]
  },
  {
   "cell_type": "code",
   "execution_count": 2,
   "metadata": {
    "executionInfo": {
     "elapsed": 1166,
     "status": "ok",
     "timestamp": 1615312641786,
     "user": {
      "displayName": "이뢀뢀",
      "photoUrl": "https://lh3.googleusercontent.com/a-/AOh14GiIc486aYedO7pLYy9pAR30mYu1GysCit3jpfY3Nw=s64",
      "userId": "05076428626224035015"
     },
     "user_tz": -540
    },
    "id": "LH7Seyo47pDk"
   },
   "outputs": [],
   "source": [
    "__all__ = [\n",
    "    'VGG', 'vgg11', 'vgg11_bn', 'vgg13', 'vgg13_bn', 'vgg16', 'vgg16_bn',\n",
    "    'vgg19_bn', 'vgg19',\n",
    "]\n",
    "\n",
    "model_urls = {\n",
    "    'vgg11': 'https://download.pytorch.org/models/vgg11-bbd30ac9.pth',\n",
    "    'vgg13': 'https://download.pytorch.org/models/vgg13-c768596a.pth',\n",
    "    'vgg16': 'https://download.pytorch.org/models/vgg16-397923af.pth',\n",
    "    'vgg19': 'https://download.pytorch.org/models/vgg19-dcbb9e9d.pth',\n",
    "    'vgg11_bn': 'https://download.pytorch.org/models/vgg11_bn-6002323d.pth',\n",
    "    'vgg13_bn': 'https://download.pytorch.org/models/vgg13_bn-abd245e5.pth',\n",
    "    'vgg16_bn': 'https://download.pytorch.org/models/vgg16_bn-6c64b313.pth',\n",
    "    'vgg19_bn': 'https://download.pytorch.org/models/vgg19_bn-c79401a0.pth',\n",
    "}"
   ]
  },
  {
   "cell_type": "code",
   "execution_count": 3,
   "metadata": {
    "executionInfo": {
     "elapsed": 1162,
     "status": "ok",
     "timestamp": 1615312641787,
     "user": {
      "displayName": "이뢀뢀",
      "photoUrl": "https://lh3.googleusercontent.com/a-/AOh14GiIc486aYedO7pLYy9pAR30mYu1GysCit3jpfY3Nw=s64",
      "userId": "05076428626224035015"
     },
     "user_tz": -540
    },
    "id": "-GqilTGyGPRK"
   },
   "outputs": [],
   "source": [
    "class VGG(nn.Module):\n",
    "\n",
    "    def __init__(\n",
    "        self,\n",
    "        features: nn.Module,\n",
    "        num_classes: int = 1000,\n",
    "        init_weights: bool = True\n",
    "    ) -> None: # return 값\n",
    "        super(VGG, self).__init__()\n",
    "        self.features = features # convolution\n",
    "        self.avgpool = nn.AdaptiveAvgPool2d((7, 7))\n",
    "        self.classifier = nn.Sequential(\n",
    "            nn.Linear(512 * 7 * 7, 4096),\n",
    "            nn.ReLU(True),\n",
    "            nn.Dropout(),\n",
    "            nn.Linear(4096, 4096),\n",
    "            nn.ReLU(True),\n",
    "            nn.Dropout(),\n",
    "            nn.Linear(4096, num_classes),\n",
    "        ) # FC layer\n",
    "        if init_weights:\n",
    "            self._initialize_weights()\n",
    "\n",
    "    def forward(self, x: torch.Tensor) -> torch.Tensor:\n",
    "        x = self.features(x) # convolution\n",
    "        x = self.avgpool(x)\n",
    "        x = torch.flatten(x, 1) # x = x.view(x.size(0), -1)\n",
    "        x = self.classifier(x) # FC layer\n",
    "        return x\n",
    "\n",
    "    def _initialize_weights(self) -> None:\n",
    "        for m in self.modules():\n",
    "            if isinstance(m, nn.Conv2d):\n",
    "                nn.init.kaiming_normal_(m.weight, mode='fan_out', nonlinearity='relu') # default: 'fan_in', Choosing 'fan_out' preserves the magnitudes in the backwards pass.\n",
    "                if m.bias is not None:\n",
    "                    nn.init.constant_(m.bias, 0)\n",
    "            elif isinstance(m, nn.BatchNorm2d):\n",
    "                nn.init.constant_(m.weight, 1)\n",
    "                nn.init.constant_(m.bias, 0)\n",
    "            elif isinstance(m, nn.Linear):\n",
    "                nn.init.normal_(m.weight, 0, 0.01)\n",
    "                nn.init.constant_(m.bias, 0)"
   ]
  },
  {
   "cell_type": "markdown",
   "metadata": {
    "id": "AImJnohJIBDx"
   },
   "source": [
    "### function annotation\n",
    "https://bluese05.tistory.com/78"
   ]
  },
  {
   "cell_type": "markdown",
   "metadata": {
    "id": "V-KU91zBGw69"
   },
   "source": [
    "### flatten 예제\n",
    "torch.flatten(input, start_dim=0, end_dim=-1) → Tensor"
   ]
  },
  {
   "cell_type": "code",
   "execution_count": 4,
   "metadata": {
    "colab": {
     "base_uri": "https://localhost:8080/"
    },
    "executionInfo": {
     "elapsed": 1149,
     "status": "ok",
     "timestamp": 1615312641788,
     "user": {
      "displayName": "이뢀뢀",
      "photoUrl": "https://lh3.googleusercontent.com/a-/AOh14GiIc486aYedO7pLYy9pAR30mYu1GysCit3jpfY3Nw=s64",
      "userId": "05076428626224035015"
     },
     "user_tz": -540
    },
    "id": "upvidZ-PGa-c",
    "outputId": "ad8028fc-797e-4d25-e510-0e84bd9c96bf"
   },
   "outputs": [
    {
     "name": "stdout",
     "output_type": "stream",
     "text": [
      "torch.Size([2, 2, 2])\n"
     ]
    }
   ],
   "source": [
    "t = torch.tensor([[[1, 2],\n",
    "                   [3, 4]],\n",
    "                  [[5, 6],\n",
    "                   [7, 8]]])\n",
    "print(t.shape)"
   ]
  },
  {
   "cell_type": "code",
   "execution_count": 5,
   "metadata": {
    "colab": {
     "base_uri": "https://localhost:8080/"
    },
    "executionInfo": {
     "elapsed": 1140,
     "status": "ok",
     "timestamp": 1615312641789,
     "user": {
      "displayName": "이뢀뢀",
      "photoUrl": "https://lh3.googleusercontent.com/a-/AOh14GiIc486aYedO7pLYy9pAR30mYu1GysCit3jpfY3Nw=s64",
      "userId": "05076428626224035015"
     },
     "user_tz": -540
    },
    "id": "qV08gnR1GcXw",
    "outputId": "77c100f4-110f-484c-daa0-1d11c3c89240"
   },
   "outputs": [
    {
     "name": "stdout",
     "output_type": "stream",
     "text": [
      "tensor([[1, 2, 3, 4],\n",
      "        [5, 6, 7, 8]])\n",
      "torch.Size([2, 4])\n"
     ]
    }
   ],
   "source": [
    "t_flatten = torch.flatten(t, start_dim=1)\n",
    "print(t_flatten)\n",
    "print(t_flatten.shape)"
   ]
  },
  {
   "cell_type": "code",
   "execution_count": 6,
   "metadata": {
    "executionInfo": {
     "elapsed": 1135,
     "status": "ok",
     "timestamp": 1615312641790,
     "user": {
      "displayName": "이뢀뢀",
      "photoUrl": "https://lh3.googleusercontent.com/a-/AOh14GiIc486aYedO7pLYy9pAR30mYu1GysCit3jpfY3Nw=s64",
      "userId": "05076428626224035015"
     },
     "user_tz": -540
    },
    "id": "-95xNrrU8AzL"
   },
   "outputs": [],
   "source": [
    "# 'A': [64, 'M', 128, 'M', 256, 256, 'M', 512, 512, 'M', 512, 512, 'M']\n",
    "# make_layers(cfgs['A'])\n",
    "\n",
    "def make_layers(cfg: List[Union[str, int]], batch_norm: bool = False) -> nn.Sequential:\n",
    "    layers: List[nn.Module] = []\n",
    "    in_channels = 3\n",
    "    for v in cfg:\n",
    "        if v == 'M':\n",
    "            layers += [nn.MaxPool2d(kernel_size=2, stride=2)]\n",
    "        else:\n",
    "            v = cast(int, v) # v를 int로 변환\n",
    "            conv2d = nn.Conv2d(in_channels, v, kernel_size=3, padding=1)\n",
    "            if batch_norm:\n",
    "                layers += [conv2d, nn.BatchNorm2d(v), nn.ReLU(inplace=True)]\n",
    "            else:\n",
    "                layers += [conv2d, nn.ReLU(inplace=True)]\n",
    "            in_channels = v\n",
    "    return nn.Sequential(*layers)\n",
    "\n",
    "# 64\n",
    "conv2d = nn.Conv2d(3, 64, kernel_size=3, padding=1)\n",
    "nn.ReLU(inplace=True)\n",
    "\n",
    "# 'M'\n",
    "nn.MaxPool2d(kernel_size=2, stride=2)\n",
    "\n",
    "# 128\n",
    "conv2d = nn.Conv2d(64, 128, kernel_size=3, padding=1)\n",
    "nn.ReLU(inplace=True)\n",
    "\n",
    "# 'M'\n",
    "nn.MaxPool2d(kernel_size=2, stride=2)\n",
    "\n",
    "# 256\n",
    "conv2d = nn.Conv2d(128, 256, kernel_size=3, padding=1)\n",
    "nn.ReLU(inplace=True)\n",
    "\n",
    "# 256\n",
    "conv2d = nn.Conv2d(256, 256, kernel_size=3, padding=1)\n",
    "nn.ReLU(inplace=True)\n",
    "\n",
    "# 'M'\n",
    "nn.MaxPool2d(kernel_size=2, stride=2)\n",
    "\n",
    "# 512\n",
    "conv2d = nn.Conv2d(256, 512, kernel_size=3, padding=1)\n",
    "nn.ReLU(inplace=True)\n",
    "\n",
    "# 512\n",
    "conv2d = nn.Conv2d(512, 512, kernel_size=3, padding=1)\n",
    "nn.ReLU(inplace=True)\n",
    "\n",
    "# 'M'\n",
    "nn.MaxPool2d(kernel_size=2, stride=2)\n",
    "\n",
    "# 512\n",
    "conv2d = nn.Conv2d(512, 512, kernel_size=3, padding=1)\n",
    "nn.ReLU(inplace=True)\n",
    "\n",
    "# 512\n",
    "conv2d = nn.Conv2d(512, 512, kernel_size=3, padding=1)\n",
    "nn.ReLU(inplace=True)\n",
    "\n",
    "# 'M'\n",
    "nn.MaxPool2d(kernel_size=2, stride=2)"
   ]
  },
  {
   "cell_type": "code",
   "execution_count": 11,
   "metadata": {
    "colab": {
     "base_uri": "https://localhost:8080/"
    },
    "executionInfo": {
     "elapsed": 684,
     "status": "ok",
     "timestamp": 1615314063487,
     "user": {
      "displayName": "이뢀뢀",
      "photoUrl": "https://lh3.googleusercontent.com/a-/AOh14GiIc486aYedO7pLYy9pAR30mYu1GysCit3jpfY3Nw=s64",
      "userId": "05076428626224035015"
     },
     "user_tz": -540
    },
    "id": "2gF8FVHkN6Ja",
    "outputId": "a5cd2e7a-a86c-4040-d41e-0a7563aaaf48"
   },
   "outputs": [
    {
     "name": "stdout",
     "output_type": "stream",
     "text": [
      "<class 'int'>\n",
      "<class 'int'>\n"
     ]
    }
   ],
   "source": [
    "v = 64\n",
    "print(type(v))\n",
    "v = cast(int, v)\n",
    "print(type(v))"
   ]
  },
  {
   "cell_type": "code",
   "execution_count": 8,
   "metadata": {
    "colab": {
     "base_uri": "https://localhost:8080/"
    },
    "executionInfo": {
     "elapsed": 1129,
     "status": "ok",
     "timestamp": 1615312641793,
     "user": {
      "displayName": "이뢀뢀",
      "photoUrl": "https://lh3.googleusercontent.com/a-/AOh14GiIc486aYedO7pLYy9pAR30mYu1GysCit3jpfY3Nw=s64",
      "userId": "05076428626224035015"
     },
     "user_tz": -540
    },
    "id": "422ornjUIWQP",
    "outputId": "027df276-2275-431b-e64f-09f07c3d79c2"
   },
   "outputs": [
    {
     "name": "stdout",
     "output_type": "stream",
     "text": [
      "Sequential(\n",
      "  (0): Conv2d(3, 64, kernel_size=(3, 3), stride=(1, 1), padding=(1, 1))\n",
      "  (1): ReLU(inplace=True)\n",
      "  (2): MaxPool2d(kernel_size=2, stride=2, padding=0, dilation=1, ceil_mode=False)\n",
      "  (3): Conv2d(64, 128, kernel_size=(3, 3), stride=(1, 1), padding=(1, 1))\n",
      "  (4): ReLU(inplace=True)\n",
      "  (5): MaxPool2d(kernel_size=2, stride=2, padding=0, dilation=1, ceil_mode=False)\n",
      "  (6): Conv2d(128, 256, kernel_size=(3, 3), stride=(1, 1), padding=(1, 1))\n",
      "  (7): ReLU(inplace=True)\n",
      "  (8): Conv2d(256, 256, kernel_size=(3, 3), stride=(1, 1), padding=(1, 1))\n",
      "  (9): ReLU(inplace=True)\n",
      "  (10): MaxPool2d(kernel_size=2, stride=2, padding=0, dilation=1, ceil_mode=False)\n",
      "  (11): Conv2d(256, 512, kernel_size=(3, 3), stride=(1, 1), padding=(1, 1))\n",
      "  (12): ReLU(inplace=True)\n",
      "  (13): Conv2d(512, 512, kernel_size=(3, 3), stride=(1, 1), padding=(1, 1))\n",
      "  (14): ReLU(inplace=True)\n",
      "  (15): MaxPool2d(kernel_size=2, stride=2, padding=0, dilation=1, ceil_mode=False)\n",
      "  (16): Conv2d(512, 512, kernel_size=(3, 3), stride=(1, 1), padding=(1, 1))\n",
      "  (17): ReLU(inplace=True)\n",
      "  (18): Conv2d(512, 512, kernel_size=(3, 3), stride=(1, 1), padding=(1, 1))\n",
      "  (19): ReLU(inplace=True)\n",
      "  (20): MaxPool2d(kernel_size=2, stride=2, padding=0, dilation=1, ceil_mode=False)\n",
      ")\n"
     ]
    }
   ],
   "source": [
    "conv = make_layers(cfgs['A'])\n",
    "print(conv)"
   ]
  },
  {
   "cell_type": "code",
   "execution_count": 14,
   "metadata": {
    "executionInfo": {
     "elapsed": 983,
     "status": "ok",
     "timestamp": 1615314657755,
     "user": {
      "displayName": "이뢀뢀",
      "photoUrl": "https://lh3.googleusercontent.com/a-/AOh14GiIc486aYedO7pLYy9pAR30mYu1GysCit3jpfY3Nw=s64",
      "userId": "05076428626224035015"
     },
     "user_tz": -540
    },
    "id": "AW8pCBhY8CvO"
   },
   "outputs": [],
   "source": [
    "cfgs: Dict[str, List[Union[str, int]]] = {\n",
    "    'A': [64, 'M', 128, 'M', 256, 256, 'M', 512, 512, 'M', 512, 512, 'M'], # 8 + 3 = 11 -> VGG11\n",
    "    'B': [64, 64, 'M', 128, 128, 'M', 256, 256, 'M', 512, 512, 'M', 512, 512, 'M'], # 10 + 3 = 13 -> VGG13\n",
    "    'D': [64, 64, 'M', 128, 128, 'M', 256, 256, 256, 'M', 512, 512, 512, 'M', 512, 512, 512, 'M'], # 13 + 3 = 16 -> VGG16\n",
    "    'E': [64, 64, 'M', 128, 128, 'M', 256, 256, 256, 256, 'M', 512, 512, 512, 512, 'M', 512, 512, 512, 512, 'M'], # 16 + 3 = 19 -> VGG19\n",
    "    'custom' : [64, 64, 'M', 128, 128, 'M', 256, 256, 256, 256, 256, 'M', 512, 512, 512, 512, 512, 'M', 512, 512, 512, 512, 512, 'M'], # 19 + 3 = 21\n",
    "}"
   ]
  },
  {
   "cell_type": "code",
   "execution_count": 17,
   "metadata": {
    "colab": {
     "base_uri": "https://localhost:8080/"
    },
    "executionInfo": {
     "elapsed": 604,
     "status": "ok",
     "timestamp": 1615314711791,
     "user": {
      "displayName": "이뢀뢀",
      "photoUrl": "https://lh3.googleusercontent.com/a-/AOh14GiIc486aYedO7pLYy9pAR30mYu1GysCit3jpfY3Nw=s64",
      "userId": "05076428626224035015"
     },
     "user_tz": -540
    },
    "id": "x_rVmijJIbzG",
    "outputId": "68487b65-32ec-4a43-a7d8-9cf0ce48afc4"
   },
   "outputs": [
    {
     "name": "stdout",
     "output_type": "stream",
     "text": [
      "Sequential(\n",
      "  (0): Conv2d(3, 64, kernel_size=(3, 3), stride=(1, 1), padding=(1, 1))\n",
      "  (1): BatchNorm2d(64, eps=1e-05, momentum=0.1, affine=True, track_running_stats=True)\n",
      "  (2): ReLU(inplace=True)\n",
      "  (3): MaxPool2d(kernel_size=2, stride=2, padding=0, dilation=1, ceil_mode=False)\n",
      "  (4): Conv2d(64, 128, kernel_size=(3, 3), stride=(1, 1), padding=(1, 1))\n",
      "  (5): BatchNorm2d(128, eps=1e-05, momentum=0.1, affine=True, track_running_stats=True)\n",
      "  (6): ReLU(inplace=True)\n",
      "  (7): MaxPool2d(kernel_size=2, stride=2, padding=0, dilation=1, ceil_mode=False)\n",
      "  (8): Conv2d(128, 256, kernel_size=(3, 3), stride=(1, 1), padding=(1, 1))\n",
      "  (9): BatchNorm2d(256, eps=1e-05, momentum=0.1, affine=True, track_running_stats=True)\n",
      "  (10): ReLU(inplace=True)\n",
      "  (11): Conv2d(256, 256, kernel_size=(3, 3), stride=(1, 1), padding=(1, 1))\n",
      "  (12): BatchNorm2d(256, eps=1e-05, momentum=0.1, affine=True, track_running_stats=True)\n",
      "  (13): ReLU(inplace=True)\n",
      "  (14): MaxPool2d(kernel_size=2, stride=2, padding=0, dilation=1, ceil_mode=False)\n",
      "  (15): Conv2d(256, 512, kernel_size=(3, 3), stride=(1, 1), padding=(1, 1))\n",
      "  (16): BatchNorm2d(512, eps=1e-05, momentum=0.1, affine=True, track_running_stats=True)\n",
      "  (17): ReLU(inplace=True)\n",
      "  (18): Conv2d(512, 512, kernel_size=(3, 3), stride=(1, 1), padding=(1, 1))\n",
      "  (19): BatchNorm2d(512, eps=1e-05, momentum=0.1, affine=True, track_running_stats=True)\n",
      "  (20): ReLU(inplace=True)\n",
      "  (21): MaxPool2d(kernel_size=2, stride=2, padding=0, dilation=1, ceil_mode=False)\n",
      "  (22): Conv2d(512, 512, kernel_size=(3, 3), stride=(1, 1), padding=(1, 1))\n",
      "  (23): BatchNorm2d(512, eps=1e-05, momentum=0.1, affine=True, track_running_stats=True)\n",
      "  (24): ReLU(inplace=True)\n",
      "  (25): Conv2d(512, 512, kernel_size=(3, 3), stride=(1, 1), padding=(1, 1))\n",
      "  (26): BatchNorm2d(512, eps=1e-05, momentum=0.1, affine=True, track_running_stats=True)\n",
      "  (27): ReLU(inplace=True)\n",
      "  (28): MaxPool2d(kernel_size=2, stride=2, padding=0, dilation=1, ceil_mode=False)\n",
      ")\n"
     ]
    }
   ],
   "source": [
    "conv = make_layers(cfgs['A'], batch_norm=True)\n",
    "print(conv)"
   ]
  },
  {
   "cell_type": "code",
   "execution_count": 18,
   "metadata": {
    "executionInfo": {
     "elapsed": 3290,
     "status": "ok",
     "timestamp": 1615314743752,
     "user": {
      "displayName": "이뢀뢀",
      "photoUrl": "https://lh3.googleusercontent.com/a-/AOh14GiIc486aYedO7pLYy9pAR30mYu1GysCit3jpfY3Nw=s64",
      "userId": "05076428626224035015"
     },
     "user_tz": -540
    },
    "id": "3dZYzqB-QXH6"
   },
   "outputs": [],
   "source": [
    "CNN = VGG(make_layers(cfgs['custom']), num_classes=10, init_weights=True)"
   ]
  },
  {
   "cell_type": "code",
   "execution_count": 19,
   "metadata": {
    "colab": {
     "base_uri": "https://localhost:8080/"
    },
    "executionInfo": {
     "elapsed": 557,
     "status": "ok",
     "timestamp": 1615314745581,
     "user": {
      "displayName": "이뢀뢀",
      "photoUrl": "https://lh3.googleusercontent.com/a-/AOh14GiIc486aYedO7pLYy9pAR30mYu1GysCit3jpfY3Nw=s64",
      "userId": "05076428626224035015"
     },
     "user_tz": -540
    },
    "id": "ntUY3czJQuSd",
    "outputId": "87d48ec3-b8b9-4ac7-c2b5-4d9dc856b6b5"
   },
   "outputs": [
    {
     "data": {
      "text/plain": [
       "VGG(\n",
       "  (features): Sequential(\n",
       "    (0): Conv2d(3, 64, kernel_size=(3, 3), stride=(1, 1), padding=(1, 1))\n",
       "    (1): ReLU(inplace=True)\n",
       "    (2): Conv2d(64, 64, kernel_size=(3, 3), stride=(1, 1), padding=(1, 1))\n",
       "    (3): ReLU(inplace=True)\n",
       "    (4): MaxPool2d(kernel_size=2, stride=2, padding=0, dilation=1, ceil_mode=False)\n",
       "    (5): Conv2d(64, 128, kernel_size=(3, 3), stride=(1, 1), padding=(1, 1))\n",
       "    (6): ReLU(inplace=True)\n",
       "    (7): Conv2d(128, 128, kernel_size=(3, 3), stride=(1, 1), padding=(1, 1))\n",
       "    (8): ReLU(inplace=True)\n",
       "    (9): MaxPool2d(kernel_size=2, stride=2, padding=0, dilation=1, ceil_mode=False)\n",
       "    (10): Conv2d(128, 256, kernel_size=(3, 3), stride=(1, 1), padding=(1, 1))\n",
       "    (11): ReLU(inplace=True)\n",
       "    (12): Conv2d(256, 256, kernel_size=(3, 3), stride=(1, 1), padding=(1, 1))\n",
       "    (13): ReLU(inplace=True)\n",
       "    (14): Conv2d(256, 256, kernel_size=(3, 3), stride=(1, 1), padding=(1, 1))\n",
       "    (15): ReLU(inplace=True)\n",
       "    (16): Conv2d(256, 256, kernel_size=(3, 3), stride=(1, 1), padding=(1, 1))\n",
       "    (17): ReLU(inplace=True)\n",
       "    (18): Conv2d(256, 256, kernel_size=(3, 3), stride=(1, 1), padding=(1, 1))\n",
       "    (19): ReLU(inplace=True)\n",
       "    (20): MaxPool2d(kernel_size=2, stride=2, padding=0, dilation=1, ceil_mode=False)\n",
       "    (21): Conv2d(256, 512, kernel_size=(3, 3), stride=(1, 1), padding=(1, 1))\n",
       "    (22): ReLU(inplace=True)\n",
       "    (23): Conv2d(512, 512, kernel_size=(3, 3), stride=(1, 1), padding=(1, 1))\n",
       "    (24): ReLU(inplace=True)\n",
       "    (25): Conv2d(512, 512, kernel_size=(3, 3), stride=(1, 1), padding=(1, 1))\n",
       "    (26): ReLU(inplace=True)\n",
       "    (27): Conv2d(512, 512, kernel_size=(3, 3), stride=(1, 1), padding=(1, 1))\n",
       "    (28): ReLU(inplace=True)\n",
       "    (29): Conv2d(512, 512, kernel_size=(3, 3), stride=(1, 1), padding=(1, 1))\n",
       "    (30): ReLU(inplace=True)\n",
       "    (31): MaxPool2d(kernel_size=2, stride=2, padding=0, dilation=1, ceil_mode=False)\n",
       "    (32): Conv2d(512, 512, kernel_size=(3, 3), stride=(1, 1), padding=(1, 1))\n",
       "    (33): ReLU(inplace=True)\n",
       "    (34): Conv2d(512, 512, kernel_size=(3, 3), stride=(1, 1), padding=(1, 1))\n",
       "    (35): ReLU(inplace=True)\n",
       "    (36): Conv2d(512, 512, kernel_size=(3, 3), stride=(1, 1), padding=(1, 1))\n",
       "    (37): ReLU(inplace=True)\n",
       "    (38): Conv2d(512, 512, kernel_size=(3, 3), stride=(1, 1), padding=(1, 1))\n",
       "    (39): ReLU(inplace=True)\n",
       "    (40): Conv2d(512, 512, kernel_size=(3, 3), stride=(1, 1), padding=(1, 1))\n",
       "    (41): ReLU(inplace=True)\n",
       "    (42): MaxPool2d(kernel_size=2, stride=2, padding=0, dilation=1, ceil_mode=False)\n",
       "  )\n",
       "  (avgpool): AdaptiveAvgPool2d(output_size=(7, 7))\n",
       "  (classifier): Sequential(\n",
       "    (0): Linear(in_features=25088, out_features=4096, bias=True)\n",
       "    (1): ReLU(inplace=True)\n",
       "    (2): Dropout(p=0.5, inplace=False)\n",
       "    (3): Linear(in_features=4096, out_features=4096, bias=True)\n",
       "    (4): ReLU(inplace=True)\n",
       "    (5): Dropout(p=0.5, inplace=False)\n",
       "    (6): Linear(in_features=4096, out_features=10, bias=True)\n",
       "  )\n",
       ")"
      ]
     },
     "execution_count": 19,
     "metadata": {
      "tags": []
     },
     "output_type": "execute_result"
    }
   ],
   "source": [
    "CNN"
   ]
  },
  {
   "cell_type": "markdown",
   "metadata": {
    "id": "tFlsJ1ObRDLd"
   },
   "source": [
    "# lab-10_5_2_Aadvance-CNN(VGG_cifar10).ipynb"
   ]
  },
  {
   "cell_type": "code",
   "execution_count": 24,
   "metadata": {
    "executionInfo": {
     "elapsed": 713,
     "status": "ok",
     "timestamp": 1615314965455,
     "user": {
      "displayName": "이뢀뢀",
      "photoUrl": "https://lh3.googleusercontent.com/a-/AOh14GiIc486aYedO7pLYy9pAR30mYu1GysCit3jpfY3Nw=s64",
      "userId": "05076428626224035015"
     },
     "user_tz": -540
    },
    "id": "36hlYGEPREmc"
   },
   "outputs": [],
   "source": [
    "import torch\n",
    "import torch.nn as nn\n",
    "\n",
    "import torch.optim as optim\n",
    "\n",
    "import torchvision\n",
    "import torchvision.transforms as transforms"
   ]
  },
  {
   "cell_type": "code",
   "execution_count": 25,
   "metadata": {
    "colab": {
     "base_uri": "https://localhost:8080/"
    },
    "id": "ov1W1PMlRk8m",
    "outputId": "d3ef83a6-0f7d-4dca-fc30-abd16655a1cf"
   },
   "outputs": [
    {
     "name": "stderr",
     "output_type": "stream",
     "text": [
      "Setting up a new session...\n"
     ]
    },
    {
     "data": {
      "text/plain": [
       "''"
      ]
     },
     "execution_count": 25,
     "metadata": {},
     "output_type": "execute_result"
    }
   ],
   "source": [
    "import visdom\n",
    "\n",
    "vis = visdom.Visdom()\n",
    "vis.close(env=\"main\")"
   ]
  },
  {
   "cell_type": "markdown",
   "metadata": {
    "id": "ty6LEo9bR-6A"
   },
   "source": [
    "## define loss tracker"
   ]
  },
  {
   "cell_type": "code",
   "execution_count": 26,
   "metadata": {
    "id": "fXVxRowuRox5"
   },
   "outputs": [],
   "source": [
    "def loss_tracker(loss_plot, loss_value, num):\n",
    "    '''num, loss_value are Tensor'''\n",
    "    vis.line(X=num,\n",
    "             Y=loss_value,\n",
    "             win=loss_plot,\n",
    "             update='append')"
   ]
  },
  {
   "cell_type": "code",
   "execution_count": 27,
   "metadata": {
    "id": "81HLBoXuSMn8"
   },
   "outputs": [
    {
     "name": "stdout",
     "output_type": "stream",
     "text": [
      "device: cpu\n"
     ]
    }
   ],
   "source": [
    "device = 'cuda' if torch.cuda.is_available() else 'cpu'\n",
    "print('device:', device)\n",
    "\n",
    "torch.manual_seed(777)\n",
    "if device == 'cuda':\n",
    "    torch.cuda.manual_seed_all(777)"
   ]
  },
  {
   "cell_type": "markdown",
   "metadata": {},
   "source": [
    "torchvision.transforms.Normalize(mean, std, inplace=False)\n",
    "* mean (sequence) – Sequence of means for each channel.\n",
    "* std (sequence) – Sequence of standard deviations for each channel."
   ]
  },
  {
   "cell_type": "code",
   "execution_count": 28,
   "metadata": {},
   "outputs": [
    {
     "name": "stdout",
     "output_type": "stream",
     "text": [
      "Files already downloaded and verified\n",
      "Files already downloaded and verified\n"
     ]
    }
   ],
   "source": [
    "transform = transforms.Compose(\n",
    "    [transforms.ToTensor(),\n",
    "    transforms.Normalize((0.5, 0.5, 0.5), (0.5, 0.5, 0.5))]\n",
    ")\n",
    "\n",
    "trainset = torchvision.datasets.CIFAR10(root='./cifar10', train=True,\n",
    "                                       download=True, transform=transform)\n",
    "\n",
    "trainloader = torch.utils.data.DataLoader(trainset, batch_size=512,\n",
    "                                         shuffle=True, num_workers=0)\n",
    "\n",
    "testset = torchvision.datasets.CIFAR10(root='./cifar10', train=False,\n",
    "                                       download=True, transform=transform)\n",
    "\n",
    "testloader = torch.utils.data.DataLoader(testset, batch_size=4,\n",
    "                                         shuffle=True, num_workers=0)\n",
    "\n",
    "classes = ('plane', 'car', 'bird', 'cat',\n",
    "          'deer', 'dog', 'frog', 'horse', 'ship', 'truck')"
   ]
  },
  {
   "cell_type": "code",
   "execution_count": 29,
   "metadata": {},
   "outputs": [
    {
     "data": {
      "image/png": "[encoded data removed]",
      "text/plain": [
       "<Figure size 432x288 with 1 Axes>"
      ]
     },
     "metadata": {
      "needs_background": "light"
     },
     "output_type": "display_data"
    },
    {
     "name": "stdout",
     "output_type": "stream",
     "text": [
      "tensor(8)\n",
      " ship horse  bird  frog\n"
     ]
    }
   ],
   "source": [
    "import matplotlib.pyplot as plt\n",
    "import numpy as np\n",
    "%matplotlib inline\n",
    "\n",
    "# functions to show an image\n",
    "def imshow(img):\n",
    "    img = img / 2 + 0.5 # unnormalize\n",
    "    npimg = img.numpy()\n",
    "    plt.imshow(np.transpose(npimg, (1, 2, 0)))\n",
    "    plt.show()\n",
    "    \n",
    "# get some random training images\n",
    "dataiter = iter(trainloader)\n",
    "images, labels = dataiter.next()\n",
    "vis.images(images/2 + 0.5)\n",
    "\n",
    "# show images\n",
    "imshow(torchvision.utils.make_grid(images))\n",
    "\n",
    "# print labels\n",
    "print(labels[0])\n",
    "print(' '.join('%5s' % classes[labels[j]] for j in range(4)))"
   ]
  },
  {
   "cell_type": "markdown",
   "metadata": {},
   "source": [
    "## make VGG16 using vgg.py"
   ]
  },
  {
   "cell_type": "code",
   "execution_count": 30,
   "metadata": {},
   "outputs": [],
   "source": [
    "import torchvision.models.vgg as vgg"
   ]
  },
  {
   "cell_type": "code",
   "execution_count": 31,
   "metadata": {},
   "outputs": [],
   "source": [
    "# 'D': [64, 64, 'M', 128, 128, 'M', 256, 256, 256, 'M', 512, 512, 512, 'M', 512, 512, 512, 'M'] # 13 + 3 = 16 -> VGG16\n",
    "cfg = [32, 32, 'M', 64, 64, 'M', 128, 128, 128, 'M', 256, 256, 256, 'M', 512, 512, 512, 'M']"
   ]
  },
  {
   "cell_type": "code",
   "execution_count": 32,
   "metadata": {},
   "outputs": [],
   "source": [
    "class VGG(nn.Module):\n",
    "\n",
    "    def __init__(\n",
    "        self,\n",
    "        features: nn.Module,\n",
    "        num_classes: int = 1000,\n",
    "        init_weights: bool = True\n",
    "    ) -> None:\n",
    "        super(VGG, self).__init__()\n",
    "        self.features = features\n",
    "#         self.avgpool = nn.AdaptiveAvgPool2d((7, 7))\n",
    "        self.classifier = nn.Sequential(\n",
    "            nn.Linear(512 * 1 * 1, 4096),\n",
    "            nn.ReLU(True),\n",
    "            nn.Dropout(),\n",
    "            nn.Linear(4096, 4096),\n",
    "            nn.ReLU(True),\n",
    "            nn.Dropout(),\n",
    "            nn.Linear(4096, num_classes),\n",
    "        )\n",
    "        if init_weights:\n",
    "            self._initialize_weights()\n",
    "\n",
    "    def forward(self, x: torch.Tensor) -> torch.Tensor:\n",
    "        x = self.features(x)\n",
    "#         x = self.avgpool(x)\n",
    "        x = torch.flatten(x, 1)\n",
    "        x = self.classifier(x)\n",
    "        return x\n",
    "\n",
    "    def _initialize_weights(self) -> None:\n",
    "        for m in self.modules():\n",
    "            if isinstance(m, nn.Conv2d):\n",
    "                nn.init.kaiming_normal_(m.weight, mode='fan_out', nonlinearity='relu')\n",
    "                if m.bias is not None:\n",
    "                    nn.init.constant_(m.bias, 0)\n",
    "            elif isinstance(m, nn.BatchNorm2d):\n",
    "                nn.init.constant_(m.weight, 1)\n",
    "                nn.init.constant_(m.bias, 0)\n",
    "            elif isinstance(m, nn.Linear):\n",
    "                nn.init.normal_(m.weight, 0, 0.01)\n",
    "                nn.init.constant_(m.bias, 0)"
   ]
  },
  {
   "cell_type": "code",
   "execution_count": 33,
   "metadata": {},
   "outputs": [],
   "source": [
    "vgg16 = VGG(vgg.make_layers(cfg), 10, True).to(device)"
   ]
  },
  {
   "cell_type": "code",
   "execution_count": 34,
   "metadata": {},
   "outputs": [
    {
     "name": "stdout",
     "output_type": "stream",
     "text": [
      "tensor([[-3.8290e-04, -7.4719e-04, -5.0973e-05,  6.6552e-04,  6.3927e-04,\n",
      "         -1.6950e-03, -8.7669e-05,  5.8557e-05,  1.4191e-04,  1.4628e-03]],\n",
      "       grad_fn=<AddmmBackward>)\n",
      "torch.Size([1, 10])\n"
     ]
    }
   ],
   "source": [
    "a = torch.Tensor(1, 3, 32, 32).to(device)\n",
    "out = vgg16(a)\n",
    "print(out)\n",
    "print(out.shape)"
   ]
  },
  {
   "cell_type": "markdown",
   "metadata": {},
   "source": [
    "SGD with momentum  \n",
    "https://pytorch.org/docs/stable/optim.html"
   ]
  },
  {
   "cell_type": "code",
   "execution_count": 35,
   "metadata": {},
   "outputs": [],
   "source": [
    "criterion = nn.CrossEntropyLoss().to(device)\n",
    "optimizer = torch.optim.SGD(vgg16.parameters(), lr=0.005, momentum=0.9) # SGD with momentum\n",
    "lr_sche = optim.lr_scheduler.StepLR(optimizer, step_size=5, gamma=0.9) # epoch step_size=5번 돌 때마다 lr에 gamma=0.9를 곱함"
   ]
  },
  {
   "cell_type": "markdown",
   "metadata": {},
   "source": [
    "## make plot"
   ]
  },
  {
   "cell_type": "code",
   "execution_count": 36,
   "metadata": {},
   "outputs": [],
   "source": [
    "loss_plt = vis.line(Y=torch.Tensor(1).zero_(), opts=dict(title='loss_tracker', legend=['loss'], showlegend=True))"
   ]
  },
  {
   "cell_type": "markdown",
   "metadata": {},
   "source": [
    "## training"
   ]
  },
  {
   "cell_type": "code",
   "execution_count": 37,
   "metadata": {},
   "outputs": [
    {
     "name": "stdout",
     "output_type": "stream",
     "text": [
      "98\n"
     ]
    },
    {
     "name": "stderr",
     "output_type": "stream",
     "text": [
      "C:\\Users\\leeej\\anaconda3\\envs\\pytorch\\lib\\site-packages\\torch\\optim\\lr_scheduler.py:131: UserWarning: Detected call of `lr_scheduler.step()` before `optimizer.step()`. In PyTorch 1.1.0 and later, you should call them in the opposite order: `optimizer.step()` before `lr_scheduler.step()`.  Failure to do this will result in PyTorch skipping the first value of the learning rate schedule. See more details at https://pytorch.org/docs/stable/optim.html#how-to-adjust-learning-rate\n",
      "  warnings.warn(\"Detected call of `lr_scheduler.step()` before `optimizer.step()`. \"\n"
     ]
    },
    {
     "name": "stdout",
     "output_type": "stream",
     "text": [
      "[1,    30] loss: 2.303\n",
      "[1,    60] loss: 2.303\n",
      "[1,    90] loss: 2.303\n",
      "[2,    30] loss: 2.302\n",
      "[2,    60] loss: 2.303\n",
      "[2,    90] loss: 2.302\n",
      "[3,    30] loss: 2.302\n",
      "[3,    60] loss: 2.302\n",
      "[3,    90] loss: 2.302\n",
      "[4,    30] loss: 2.302\n",
      "[4,    60] loss: 2.302\n",
      "[4,    90] loss: 2.302\n",
      "[5,    30] loss: 2.302\n",
      "[5,    60] loss: 2.302\n",
      "[5,    90] loss: 2.302\n",
      "[6,    30] loss: 2.301\n",
      "[6,    60] loss: 2.301\n",
      "[6,    90] loss: 2.301\n",
      "[7,    30] loss: 2.300\n",
      "[7,    60] loss: 2.299\n",
      "[7,    90] loss: 2.296\n",
      "[8,    30] loss: 2.289\n",
      "[8,    60] loss: 2.265\n",
      "[8,    90] loss: 2.237\n",
      "[9,    30] loss: 2.183\n",
      "[9,    60] loss: 2.170\n",
      "[9,    90] loss: 2.148\n",
      "[10,    30] loss: 2.135\n",
      "[10,    60] loss: 2.116\n",
      "[10,    90] loss: 2.108\n",
      "[11,    30] loss: 2.092\n",
      "[11,    60] loss: 2.071\n",
      "[11,    90] loss: 2.052\n",
      "[12,    30] loss: 2.025\n",
      "[12,    60] loss: 2.014\n",
      "[12,    90] loss: 1.975\n",
      "[13,    30] loss: 1.951\n",
      "[13,    60] loss: 1.933\n",
      "[13,    90] loss: 1.909\n",
      "[14,    30] loss: 1.896\n",
      "[14,    60] loss: 1.884\n",
      "[14,    90] loss: 1.849\n",
      "[15,    30] loss: 1.808\n",
      "[15,    60] loss: 1.792\n",
      "[15,    90] loss: 1.743\n",
      "[16,    30] loss: 1.709\n",
      "[16,    60] loss: 1.730\n",
      "[16,    90] loss: 1.724\n",
      "[17,    30] loss: 1.686\n",
      "[17,    60] loss: 1.674\n",
      "[17,    90] loss: 1.630\n",
      "[18,    30] loss: 1.621\n",
      "[18,    60] loss: 1.649\n",
      "[18,    90] loss: 1.587\n",
      "[19,    30] loss: 1.579\n",
      "[19,    60] loss: 1.557\n",
      "[19,    90] loss: 1.557\n",
      "[20,    30] loss: 1.555\n",
      "[20,    60] loss: 1.513\n",
      "[20,    90] loss: 1.481\n",
      "[21,    30] loss: 1.479\n",
      "[21,    60] loss: 1.452\n",
      "[21,    90] loss: 1.450\n",
      "[22,    30] loss: 1.437\n",
      "[22,    60] loss: 1.412\n",
      "[22,    90] loss: 1.377\n",
      "[23,    30] loss: 1.351\n",
      "[23,    60] loss: 1.357\n",
      "[23,    90] loss: 1.316\n",
      "[24,    30] loss: 1.288\n",
      "[24,    60] loss: 1.251\n",
      "[24,    90] loss: 1.243\n",
      "[25,    30] loss: 1.208\n",
      "[25,    60] loss: 1.188\n",
      "[25,    90] loss: 1.183\n",
      "[26,    30] loss: 1.167\n",
      "[26,    60] loss: 1.140\n",
      "[26,    90] loss: 1.106\n",
      "[27,    30] loss: 1.087\n",
      "[27,    60] loss: 1.084\n",
      "[27,    90] loss: 1.066\n",
      "[28,    30] loss: 1.048\n",
      "[28,    60] loss: 1.024\n",
      "[28,    90] loss: 1.031\n",
      "[29,    30] loss: 1.020\n",
      "[29,    60] loss: 1.005\n",
      "[29,    90] loss: 1.007\n",
      "[30,    30] loss: 1.009\n",
      "[30,    60] loss: 0.966\n",
      "[30,    90] loss: 0.949\n",
      "[31,    30] loss: 0.952\n",
      "[31,    60] loss: 0.938\n",
      "[31,    90] loss: 0.923\n",
      "[32,    30] loss: 0.904\n",
      "[32,    60] loss: 0.935\n",
      "[32,    90] loss: 0.936\n",
      "[33,    30] loss: 0.872\n",
      "[33,    60] loss: 0.848\n",
      "[33,    90] loss: 0.892\n",
      "[34,    30] loss: 0.865\n",
      "[34,    60] loss: 0.870\n",
      "[34,    90] loss: 0.850\n",
      "[35,    30] loss: 0.806\n",
      "[35,    60] loss: 0.792\n",
      "[35,    90] loss: 0.807\n",
      "[36,    30] loss: 0.801\n",
      "[36,    60] loss: 0.809\n",
      "[36,    90] loss: 0.778\n",
      "[37,    30] loss: 0.760\n",
      "[37,    60] loss: 0.796\n",
      "[37,    90] loss: 0.755\n",
      "[38,    30] loss: 0.737\n",
      "[38,    60] loss: 0.728\n",
      "[38,    90] loss: 0.727\n",
      "[39,    30] loss: 0.705\n",
      "[39,    60] loss: 0.683\n",
      "[39,    90] loss: 0.713\n",
      "[40,    30] loss: 0.666\n",
      "[40,    60] loss: 0.647\n",
      "[40,    90] loss: 0.679\n",
      "[41,    30] loss: 0.626\n",
      "[41,    60] loss: 0.637\n",
      "[41,    90] loss: 0.676\n",
      "[42,    30] loss: 0.594\n",
      "[42,    60] loss: 0.603\n",
      "[42,    90] loss: 0.659\n",
      "[43,    30] loss: 0.596\n",
      "[43,    60] loss: 0.580\n",
      "[43,    90] loss: 0.587\n",
      "[44,    30] loss: 0.547\n",
      "[44,    60] loss: 0.580\n",
      "[44,    90] loss: 0.545\n",
      "[45,    30] loss: 0.534\n",
      "[45,    60] loss: 0.537\n",
      "[45,    90] loss: 0.541\n",
      "[46,    30] loss: 0.506\n",
      "[46,    60] loss: 0.509\n",
      "[46,    90] loss: 0.523\n",
      "[47,    30] loss: 0.469\n",
      "[47,    60] loss: 0.475\n",
      "[47,    90] loss: 0.491\n",
      "[48,    30] loss: 0.470\n",
      "[48,    60] loss: 0.462\n",
      "[48,    90] loss: 0.459\n",
      "[49,    30] loss: 0.420\n",
      "[49,    60] loss: 0.412\n",
      "[49,    90] loss: 0.424\n",
      "[50,    30] loss: 0.385\n",
      "[50,    60] loss: 0.398\n",
      "[50,    90] loss: 0.390\n",
      "Finished Training\n"
     ]
    }
   ],
   "source": [
    "print(len(trainloader))\n",
    "epochs = 50\n",
    "\n",
    "for epoch in range(epochs): # loop over the dataset multiple times\n",
    "    running_loss = 0.0\n",
    "    lr_sche.step()\n",
    "    for i, data in enumerate(trainloader, 0):\n",
    "        # get the inputs\n",
    "        inputs, labels = data\n",
    "        inputs = inputs.to(device)\n",
    "        labels = labels.to(device)\n",
    "        \n",
    "        # zero the parameter gradients\n",
    "        optimizer.zero_grad()\n",
    "        \n",
    "        # forward + backward + optimize\n",
    "        outputs = vgg16(inputs)\n",
    "        loss = criterion(outputs, labels)\n",
    "        loss.backward()\n",
    "        optimizer.step()\n",
    "        \n",
    "        # print statistics\n",
    "        running_loss += loss.item()\n",
    "        if i % 30 == 29: # print every 30 mini-batches\n",
    "            loss_tracker(loss_plt, torch.Tensor([running_loss/30]), torch.Tensor([i + epoch*len(trainloader)]))\n",
    "            print('[%d, %5d] loss: %.3f' %\n",
    "                 (epoch + 1, i + 1, running_loss / 30))\n",
    "            running_loss = 0.0\n",
    "            \n",
    "print('Finished Training')"
   ]
  },
  {
   "cell_type": "code",
   "execution_count": 38,
   "metadata": {},
   "outputs": [
    {
     "data": {
      "image/png": "[encoded data removed]",
      "text/plain": [
       "<Figure size 432x288 with 1 Axes>"
      ]
     },
     "metadata": {
      "needs_background": "light"
     },
     "output_type": "display_data"
    },
    {
     "name": "stdout",
     "output_type": "stream",
     "text": [
      "GroundTruth:    doghorse shipplane\n"
     ]
    }
   ],
   "source": [
    "dataiter = iter(testloader)\n",
    "images, labels = dataiter.next()\n",
    "\n",
    "# print images\n",
    "imshow(torchvision.utils.make_grid(images))\n",
    "print('GroundTruth: ', ''.join('%5s' % classes[labels[j]] for j in range(4)))"
   ]
  },
  {
   "cell_type": "code",
   "execution_count": 39,
   "metadata": {},
   "outputs": [],
   "source": [
    "outputs = vgg16(images.to(device))"
   ]
  },
  {
   "cell_type": "code",
   "execution_count": 40,
   "metadata": {},
   "outputs": [
    {
     "name": "stdout",
     "output_type": "stream",
     "text": [
      "Predicted:    dog horse plane plane\n"
     ]
    }
   ],
   "source": [
    "_, predicted = torch.max(outputs, 1)\n",
    "\n",
    "print('Predicted: ', ' '.join('%5s' % classes[predicted[j]] for j in range(4)))"
   ]
  },
  {
   "cell_type": "code",
   "execution_count": 41,
   "metadata": {},
   "outputs": [
    {
     "name": "stdout",
     "output_type": "stream",
     "text": [
      "Accuracy of the network on the 10000 test images: 71 %\n"
     ]
    }
   ],
   "source": [
    "correct = 0\n",
    "total = 0\n",
    "\n",
    "with torch.no_grad():\n",
    "    for data in testloader:\n",
    "        images, labels = data\n",
    "        images = images.to(device)\n",
    "        labels = labels.to(device)\n",
    "        outputs = vgg16(images)\n",
    "        \n",
    "        _, predicted = torch.max(outputs.data, 1)\n",
    "        \n",
    "        total += labels.size(0)\n",
    "        \n",
    "        correct += (predicted == labels).sum().item()\n",
    "        \n",
    "print('Accuracy of the network on the 10000 test images: %d %%' % (100 * correct / total))"
   ]
  }
 ],
 "metadata": {
  "accelerator": "GPU",
  "colab": {
   "authorship_tag": "ABX9TyM1tpyCAdM2ZGei8kX3ZEMz",
   "collapsed_sections": [],
   "name": "Lab-10-5 Advance CNN(VGG).ipynb",
   "provenance": []
  },
  "kernelspec": {
   "display_name": "Python 3",
   "language": "python",
   "name": "python3"
  },
  "language_info": {
   "codemirror_mode": {
    "name": "ipython",
    "version": 3
   },
   "file_extension": ".py",
   "mimetype": "text/x-python",
   "name": "python",
   "nbconvert_exporter": "python",
   "pygments_lexer": "ipython3",
   "version": "3.8.5"
  }
 },
 "nbformat": 4,
 "nbformat_minor": 1
}
